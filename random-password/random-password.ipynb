{
 "cells": [
  {
   "cell_type": "code",
   "execution_count": 1,
   "metadata": {},
   "outputs": [],
   "source": [
    "import math\n",
    "import secrets\n",
    "import string\n",
    "from typing import Iterable, Tuple"
   ]
  },
  {
   "cell_type": "code",
   "execution_count": 2,
   "metadata": {},
   "outputs": [],
   "source": [
    "def get_time_format(seconds: int) -> str:\n",
    "    \"\"\"Function to format a number of seconds into something more readable.\"\"\"\n",
    "    year = 3.154e7\n",
    "    month = 2.628e6\n",
    "\n",
    "    if seconds >= 3.154e7:\n",
    "        return f\"{seconds / 3.154e7:,.2f} years\"\n",
    "    elif seconds >= 2.628e6:\n",
    "        return f\"{seconds / 2.628e6:,.2f} months\"\n",
    "    elif seconds >= 604799.33719968:\n",
    "        return f\"{seconds / 604799.33719968:,.2f} weeks\"\n",
    "    elif seconds >= 86400:\n",
    "        return f\"{seconds / 86400:,.2f} days\"\n",
    "    elif seconds >= 3600:\n",
    "        return f\"{seconds / 3600:,.2f} hours\"\n",
    "    else:\n",
    "        return f\"{seconds:.2f} seconds\""
   ]
  },
  {
   "cell_type": "code",
   "execution_count": 3,
   "metadata": {},
   "outputs": [],
   "source": [
    "def entropy(s: int, l: int):\n",
    "    \"\"\"\n",
    "    Attempts to guess the entropy of a password based on the size of the pool\n",
    "    of unique characters and the length of the password.\n",
    "\n",
    "    The calculation is the theoretical maximum entropy.\n",
    "\n",
    "    https://generatepasswords.org/how-to-calculate-entropy/\n",
    "    \"\"\"\n",
    "    # L = Password Length; Number of symbols in the password\n",
    "    # S = Size of the pool of unique possible symbols (character set).\n",
    "    # Number of Possible Combinations = S**L\n",
    "    # Entropy = log2(Number of Possible Combinations)\n",
    "    return math.log2(s ** l)"
   ]
  },
  {
   "cell_type": "code",
   "execution_count": 4,
   "metadata": {},
   "outputs": [],
   "source": [
    "def display_stats(choices: Iterable, len_of_password: int):\n",
    "    \"\"\"Just a small example of how long it might take to guess a password.\"\"\"\n",
    "    len_of_choices = len(choices)\n",
    "    number_of_guesses = len_of_choices ** len_of_password\n",
    "    entropy = math.log2(number_of_guesses)\n",
    "    average_guesses = (number_of_guesses) / 2\n",
    "    guesses_per_second = 1_000_000_000_000  # 1 trillion (most I've seen is 350B)\n",
    "    seconds_to_guess_on_average = average_guesses / guesses_per_second\n",
    "    print(\n",
    "        f\"It would take approx {get_time_format(seconds_to_guess_on_average)} \"\n",
    "        f\"to guess that password.  \"\n",
    "        f\"entropy = {entropy:.2f}\"\n",
    "    )"
   ]
  },
  {
   "cell_type": "code",
   "execution_count": 5,
   "metadata": {},
   "outputs": [],
   "source": [
    "def define_ranges() -> Tuple[str, str]:\n",
    "    \"\"\"Define some character ranges from which to create passwords.\"\"\"\n",
    "    shell_no_need_escape = \",._+:@%/-}]\"\n",
    "    no_lookalikes = \"\".join([\n",
    "        c\n",
    "        for c in (string.ascii_letters + string.digits)\n",
    "        if c.lower() not in [\"1\", \"l\", \"i\", \"o\", \"0\"]\n",
    "    ])\n",
    "\n",
    "    return (\n",
    "        (\n",
    "            \"letters, numbers, and puncuation\",\n",
    "            string.ascii_letters + string.digits + string.punctuation,\n",
    "        ),\n",
    "        (\n",
    "            \"letters, numbers, and shell-safe punctuation\",\n",
    "            string.ascii_letters + string.digits + shell_no_need_escape,\n",
    "        ),\n",
    "        (\"letters and numbers\", string.ascii_letters + string.digits),\n",
    "        (\"lowercase letters, and numbers\", string.ascii_lowercase + string.digits),\n",
    "        (\"letters and numbers, with 'look alikes' removed\", no_lookalikes),\n",
    "        (\"lowercase hex digits\", \"abcdef0123456789\"),\n",
    "    )"
   ]
  },
  {
   "cell_type": "code",
   "execution_count": 6,
   "metadata": {},
   "outputs": [
    {
     "data": {
      "text/plain": [
       "(('letters, numbers, and puncuation',\n",
       "  'abcdefghijklmnopqrstuvwxyzABCDEFGHIJKLMNOPQRSTUVWXYZ0123456789!\"#$%&\\'()*+,-./:;<=>?@[\\\\]^_`{|}~'),\n",
       " ('letters, numbers, and shell-safe punctuation',\n",
       "  'abcdefghijklmnopqrstuvwxyzABCDEFGHIJKLMNOPQRSTUVWXYZ0123456789,._+:@%/-}]'),\n",
       " ('letters and numbers',\n",
       "  'abcdefghijklmnopqrstuvwxyzABCDEFGHIJKLMNOPQRSTUVWXYZ0123456789'),\n",
       " ('lowercase letters, and numbers', 'abcdefghijklmnopqrstuvwxyz0123456789'),\n",
       " (\"letters and numbers, with 'look alikes' removed\",\n",
       "  'abcdefghjkmnpqrstuvwxyzABCDEFGHJKMNPQRSTUVWXYZ23456789'),\n",
       " ('lowercase hex digits', 'abcdef0123456789'))"
      ]
     },
     "execution_count": 6,
     "metadata": {},
     "output_type": "execute_result"
    }
   ],
   "source": [
    "define_ranges()"
   ]
  },
  {
   "cell_type": "code",
   "execution_count": 7,
   "metadata": {},
   "outputs": [],
   "source": [
    "def sort_ranges(ranges: Tuple[Tuple[str, str]]) -> Tuple[str, str]:\n",
    "    \"\"\"Custom sorting function based on the range's entropy\"\"\"\n",
    "    return sorted(ranges, key=lambda x: entropy(len(x[1]), 10), reverse=True)"
   ]
  },
  {
   "cell_type": "code",
   "execution_count": 10,
   "metadata": {},
   "outputs": [],
   "source": [
    "def generate_passwords(count: int = 5, length: int = 24, character_ranges = None):\n",
    "    character_ranges = character_ranges or define_ranges()\n",
    "    for description, choices in sort_ranges(character_ranges):\n",
    "        e = entropy(s=len(choices), l=length)\n",
    "        print(f\"---- {description} (entropy: {e:.2f}):\")\n",
    "        for _ in range(count):\n",
    "            characters = []\n",
    "            for _ in range(length):\n",
    "                characters.append(secrets.choice(choices))\n",
    "\n",
    "            password = \"\".join(characters)\n",
    "            print(password)"
   ]
  },
  {
   "cell_type": "code",
   "execution_count": 14,
   "metadata": {},
   "outputs": [
    {
     "name": "stdout",
     "output_type": "stream",
     "text": [
      "Passwords of length 24:\n"
     ]
    },
    {
     "ename": "ValueError",
     "evalue": "too many values to unpack (expected 2)",
     "output_type": "error",
     "traceback": [
      "\u001b[0;31m---------------------------------------------------------------------------\u001b[0m",
      "\u001b[0;31mValueError\u001b[0m                                Traceback (most recent call last)",
      "\u001b[0;32m<ipython-input-14-31179a6be144>\u001b[0m in \u001b[0;36m<module>\u001b[0;34m\u001b[0m\n\u001b[1;32m      1\u001b[0m \u001b[0mprint\u001b[0m\u001b[0;34m(\u001b[0m\u001b[0;34m\"Passwords of length 24:\"\u001b[0m\u001b[0;34m)\u001b[0m\u001b[0;34m\u001b[0m\u001b[0;34m\u001b[0m\u001b[0m\n\u001b[0;32m----> 2\u001b[0;31m \u001b[0mgenerate_passwords\u001b[0m\u001b[0;34m(\u001b[0m\u001b[0mlength\u001b[0m\u001b[0;34m=\u001b[0m\u001b[0;36m24\u001b[0m\u001b[0;34m,\u001b[0m \u001b[0mcharacter_ranges\u001b[0m\u001b[0;34m=\u001b[0m\u001b[0;34m(\u001b[0m\u001b[0;34m(\u001b[0m\u001b[0;34m'test'\u001b[0m\u001b[0;34m,\u001b[0m \u001b[0;34m'1234'\u001b[0m\u001b[0;34m)\u001b[0m\u001b[0;34m)\u001b[0m\u001b[0;34m)\u001b[0m\u001b[0;34m\u001b[0m\u001b[0;34m\u001b[0m\u001b[0m\n\u001b[0m",
      "\u001b[0;32m<ipython-input-10-ef08b688efdb>\u001b[0m in \u001b[0;36mgenerate_passwords\u001b[0;34m(count, length, character_ranges)\u001b[0m\n\u001b[1;32m      1\u001b[0m \u001b[0;32mdef\u001b[0m \u001b[0mgenerate_passwords\u001b[0m\u001b[0;34m(\u001b[0m\u001b[0mcount\u001b[0m\u001b[0;34m:\u001b[0m \u001b[0mint\u001b[0m \u001b[0;34m=\u001b[0m \u001b[0;36m5\u001b[0m\u001b[0;34m,\u001b[0m \u001b[0mlength\u001b[0m\u001b[0;34m:\u001b[0m \u001b[0mint\u001b[0m \u001b[0;34m=\u001b[0m \u001b[0;36m24\u001b[0m\u001b[0;34m,\u001b[0m \u001b[0mcharacter_ranges\u001b[0m \u001b[0;34m=\u001b[0m \u001b[0;32mNone\u001b[0m\u001b[0;34m)\u001b[0m\u001b[0;34m:\u001b[0m\u001b[0;34m\u001b[0m\u001b[0;34m\u001b[0m\u001b[0m\n\u001b[1;32m      2\u001b[0m     \u001b[0mcharacter_ranges\u001b[0m \u001b[0;34m=\u001b[0m \u001b[0mcharacter_ranges\u001b[0m \u001b[0;32mor\u001b[0m \u001b[0mdefine_ranges\u001b[0m\u001b[0;34m(\u001b[0m\u001b[0;34m)\u001b[0m\u001b[0;34m\u001b[0m\u001b[0;34m\u001b[0m\u001b[0m\n\u001b[0;32m----> 3\u001b[0;31m     \u001b[0;32mfor\u001b[0m \u001b[0mdescription\u001b[0m\u001b[0;34m,\u001b[0m \u001b[0mchoices\u001b[0m \u001b[0;32min\u001b[0m \u001b[0msort_ranges\u001b[0m\u001b[0;34m(\u001b[0m\u001b[0mcharacter_ranges\u001b[0m\u001b[0;34m)\u001b[0m\u001b[0;34m:\u001b[0m\u001b[0;34m\u001b[0m\u001b[0;34m\u001b[0m\u001b[0m\n\u001b[0m\u001b[1;32m      4\u001b[0m         \u001b[0me\u001b[0m \u001b[0;34m=\u001b[0m \u001b[0mentropy\u001b[0m\u001b[0;34m(\u001b[0m\u001b[0ms\u001b[0m\u001b[0;34m=\u001b[0m\u001b[0mlen\u001b[0m\u001b[0;34m(\u001b[0m\u001b[0mchoices\u001b[0m\u001b[0;34m)\u001b[0m\u001b[0;34m,\u001b[0m \u001b[0ml\u001b[0m\u001b[0;34m=\u001b[0m\u001b[0mlength\u001b[0m\u001b[0;34m)\u001b[0m\u001b[0;34m\u001b[0m\u001b[0;34m\u001b[0m\u001b[0m\n\u001b[1;32m      5\u001b[0m         \u001b[0mprint\u001b[0m\u001b[0;34m(\u001b[0m\u001b[0;34mf\"---- {description} (entropy: {e:.2f}):\"\u001b[0m\u001b[0;34m)\u001b[0m\u001b[0;34m\u001b[0m\u001b[0;34m\u001b[0m\u001b[0m\n",
      "\u001b[0;31mValueError\u001b[0m: too many values to unpack (expected 2)"
     ]
    }
   ],
   "source": [
    "print(\"Passwords of length 24:\")\n",
    "generate_passwords(\n",
    "    length=24,\n",
    "    character_ranges=(('test', '1234'))\n",
    ")"
   ]
  },
  {
   "cell_type": "code",
   "execution_count": null,
   "metadata": {},
   "outputs": [],
   "source": []
  }
 ],
 "metadata": {
  "kernelspec": {
   "display_name": "Python 3",
   "language": "python",
   "name": "python3"
  },
  "language_info": {
   "codemirror_mode": {
    "name": "ipython",
    "version": 3
   },
   "file_extension": ".py",
   "mimetype": "text/x-python",
   "name": "python",
   "nbconvert_exporter": "python",
   "pygments_lexer": "ipython3",
   "version": "3.8.6"
  }
 },
 "nbformat": 4,
 "nbformat_minor": 4
}
